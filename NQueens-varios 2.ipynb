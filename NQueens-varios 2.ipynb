{
 "cells": [
  {
   "cell_type": "markdown",
   "metadata": {},
   "source": [
    "# Minimum Remaining Values"
   ]
  },
  {
   "cell_type": "code",
   "execution_count": 1,
   "metadata": {
    "collapsed": true
   },
   "outputs": [],
   "source": [
    "def min_conflicts(csp, max_steps=100000):\n",
    "    csp.current = current = {}\n",
    "    for var in csp.vars:\n",
    "        val = min_conflicts_value(csp, var, current)\n",
    "        csp.assign(var, val, current)\n",
    "    for i in range(max_steps):\n",
    "        conflicted = csp.conflicted_vars(current)\n",
    "        if not conflicted:\n",
    "            return current\n",
    "        var = random.choice(conflicted)\n",
    "        val = min_conflicts_value(csp, var, current)\n",
    "        csp.assign(var, val, current)\n",
    "    return None\n",
    "\n",
    "def min_conflicts_value(csp, var, current):\n",
    "    return argmin_random_tie(csp.domains[var],\n",
    "                             lambda val: csp.nconflicts(var, val, current))"
   ]
  },
  {
   "cell_type": "code",
   "execution_count": 2,
   "metadata": {
    "collapsed": true
   },
   "outputs": [],
   "source": [
    "import time\n",
    "\n",
    "def time_queens(val, method = 'minimos'):\n",
    "    val = [0] * val\n",
    "    tic = time.time()\n",
    "    if method == 'monimos':\n",
    "        min_conflicts(var, val, current)\n",
    "    return time.time() - tic"
   ]
  },
  {
   "cell_type": "code",
   "execution_count": 3,
   "metadata": {},
   "outputs": [
    {
     "data": {
      "text/plain": [
       "0.0"
      ]
     },
     "execution_count": 3,
     "metadata": {},
     "output_type": "execute_result"
    }
   ],
   "source": [
    "time_queens(4)"
   ]
  },
  {
   "cell_type": "code",
   "execution_count": 4,
   "metadata": {},
   "outputs": [],
   "source": [
    "time_min = []\n",
    "for i in range(4,18,2):\n",
    "    time_min.append(time_queens(i))"
   ]
  },
  {
   "cell_type": "markdown",
   "metadata": {},
   "source": [
    "# Backtracking"
   ]
  },
  {
   "cell_type": "code",
   "execution_count": 5,
   "metadata": {
    "collapsed": true
   },
   "outputs": [],
   "source": [
    "def bt_queens(k,n,X):\n",
    "    if k >= n:\n",
    "        return\n",
    "    X[k] = 0\n",
    "    while True:\n",
    "        X[k] += 1  # select new option increase X[k]\n",
    "        if validate(k,X):  # test constraints\n",
    "            if k != n-1:\n",
    "                bt_queens(k + 1, n, X)\n",
    "            else:\n",
    "                #print 'Solution:', X\n",
    "                return X\n",
    "        if X[k] == n:\n",
    "            break\n",
    "\n",
    "def validate(k,X):\n",
    "    for i in range(k):\n",
    "        if X[i] == X[k] or abs(X[i] - X[k]) == abs(i - k):\n",
    "            return False\n",
    "    return True\n",
    "\n",
    "bt_queens(0, 8, [0] * 8)"
   ]
  },
  {
   "cell_type": "code",
   "execution_count": 6,
   "metadata": {
    "collapsed": true
   },
   "outputs": [],
   "source": [
    "import time\n",
    "\n",
    "def time_queens(n, method = 'backtracking'):\n",
    "    X = [0] * n\n",
    "    tic = time.time()\n",
    "    if method == 'backtracking':\n",
    "        bt_queens(0, n, [0] * n)\n",
    "    return time.time() - tic"
   ]
  },
  {
   "cell_type": "code",
   "execution_count": 7,
   "metadata": {},
   "outputs": [
    {
     "data": {
      "text/plain": [
       "0.0"
      ]
     },
     "execution_count": 7,
     "metadata": {},
     "output_type": "execute_result"
    }
   ],
   "source": [
    "time_queens(4)"
   ]
  },
  {
   "cell_type": "code",
   "execution_count": null,
   "metadata": {
    "collapsed": true
   },
   "outputs": [],
   "source": [
    "time_bt = []\n",
    "for i in range(4,18,2):\n",
    "    time_bt.append(time_queens(i))"
   ]
  },
  {
   "cell_type": "code",
   "execution_count": null,
   "metadata": {
    "collapsed": true
   },
   "outputs": [],
   "source": [
    "%matplotlib inline\n",
    "import numpy as np\n",
    "import matplotlib.pyplot as plt"
   ]
  },
  {
   "cell_type": "code",
   "execution_count": null,
   "metadata": {},
   "outputs": [],
   "source": [
    "plt.plot(range(4,18,2),time_min,'-oc',label='Minimos')\n",
    "plt.plot(range(4,18,2),time_bt,'-ob',label='Backtracking')\n",
    "plt.legend(loc=2)\n",
    "plt.ylabel('Time(ms)')\n",
    "plt.xlabel('n')"
   ]
  }
 ],
 "metadata": {
  "kernelspec": {
   "display_name": "Python 2",
   "language": "python",
   "name": "python2"
  },
  "language_info": {
   "codemirror_mode": {
    "name": "ipython",
    "version": 2
   },
   "file_extension": ".py",
   "mimetype": "text/x-python",
   "name": "python",
   "nbconvert_exporter": "python",
   "pygments_lexer": "ipython2",
   "version": "2.7.13"
  }
 },
 "nbformat": 4,
 "nbformat_minor": 2
}
