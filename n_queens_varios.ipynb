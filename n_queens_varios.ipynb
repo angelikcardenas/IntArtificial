{
 "cells": [
  {
   "cell_type": "markdown",
   "metadata": {},
   "source": [
    "# n-Queens\n",
    "\n",
    "In a chess board with size $n\\times n$, you must to place $n$ queens in a way which some queen doesn't attack another one."
   ]
  },
  {
   "cell_type": "code",
   "execution_count": 1,
   "metadata": {
    "collapsed": true
   },
   "outputs": [],
   "source": [
    "def bt_queens(k,n,X):\n",
    "    if k >= n:\n",
    "        return\n",
    "    X[k] = 0\n",
    "    while True:\n",
    "        X[k] += 1  # select new option increase X[k]\n",
    "        if validate(k,X):  # test constraints\n",
    "            if k != n-1:\n",
    "                bt_queens(k + 1, n, X)\n",
    "            else:\n",
    "                #print 'Solution:', X\n",
    "                return X\n",
    "        if X[k] == n:\n",
    "            break\n",
    "\n",
    "def validate(k,X):\n",
    "    for i in range(k):\n",
    "        if X[i] == X[k] or abs(X[i] - X[k]) == abs(i - k):\n",
    "            return False\n",
    "    return True\n",
    "\n",
    "bt_queens(0, 8, [0] * 8)"
   ]
  },
  {
   "cell_type": "code",
   "execution_count": 2,
   "metadata": {
    "collapsed": true
   },
   "outputs": [],
   "source": [
    "import time\n",
    "\n",
    "def time_queens(n, method = 'backtracking'):\n",
    "    X = [0] * n\n",
    "    tic = time.time()\n",
    "    if method == 'backtracking':\n",
    "        bt_queens(0, n, [0] * n)\n",
    "    return time.time() - tic"
   ]
  },
  {
   "cell_type": "code",
   "execution_count": 3,
   "metadata": {},
   "outputs": [
    {
     "data": {
      "text/plain": [
       "0.0"
      ]
     },
     "execution_count": 3,
     "metadata": {},
     "output_type": "execute_result"
    }
   ],
   "source": [
    "time_queens(4)"
   ]
  },
  {
   "cell_type": "code",
   "execution_count": null,
   "metadata": {
    "collapsed": true
   },
   "outputs": [],
   "source": [
    "time_bt = []\n",
    "for i in range(4,18,2):\n",
    "    time_bt.append(time_queens(i))"
   ]
  },
  {
   "cell_type": "markdown",
   "metadata": {},
   "source": [
    "#    Forward Checking\n",
    "    "
   ]
  },
  {
   "cell_type": "code",
   "execution_count": 1,
   "metadata": {},
   "outputs": [],
   "source": [
    "def fc_queens(grid, queen):\n",
    "    if len(grid) == queen:\n",
    "        return True\n",
    "    rowsProposition = getRowsProposition(grid, queen)\n",
    "    for row in rowsProposition:\n",
    "        grid[row, queen] = 1\n",
    "        domainWipeOut = False\n",
    "        for variable in getUnassignedFromConstraint(grid, queen):\n",
    "            if fc(grid, variable.row, variable.column):\n",
    "                domainWipeOut = True\n",
    "                break\n",
    "        if not domainWipeOut:\n",
    "             if fc_queens(grid, queen + 1):\n",
    "                return True\n",
    "        grid[row, queen] = 0\n",
    "        "
   ]
  },
  {
   "cell_type": "code",
   "execution_count": 2,
   "metadata": {},
   "outputs": [],
   "source": [
    "import time\n",
    "\n",
    "def time_queens_fc(queen, method = 'Forward_Checking'):\n",
    "    grid = [0] * queen\n",
    "    tic = time.time()\n",
    "    if method == 'Forward_Checking':\n",
    "        fc_queens(grid, queen)\n",
    "    return time.time() - tic"
   ]
  },
  {
   "cell_type": "code",
   "execution_count": 3,
   "metadata": {},
   "outputs": [
    {
     "data": {
      "text/plain": [
       "0.0"
      ]
     },
     "execution_count": 3,
     "metadata": {},
     "output_type": "execute_result"
    }
   ],
   "source": [
    "time_queens_fc(4)"
   ]
  },
  {
   "cell_type": "code",
   "execution_count": 4,
   "metadata": {},
   "outputs": [],
   "source": [
    "time_fc = []\n",
    "for i in range(4,18,2):\n",
    "    time_fc.append(time_queens_fc(i))"
   ]
  },
  {
   "cell_type": "code",
   "execution_count": 15,
   "metadata": {
    "collapsed": true
   },
   "outputs": [],
   "source": [
    "%matplotlib inline\n",
    "import numpy as np\n",
    "import matplotlib.pyplot as plt"
   ]
  },
  {
   "cell_type": "code",
   "execution_count": 17,
   "metadata": {},
   "outputs": [
    {
     "ename": "NameError",
     "evalue": "name 'time_bt' is not defined",
     "output_type": "error",
     "traceback": [
      "\u001b[1;31m---------------------------------------------------------------------------\u001b[0m",
      "\u001b[1;31mNameError\u001b[0m                                 Traceback (most recent call last)",
      "\u001b[1;32m<ipython-input-17-cd3a532e4241>\u001b[0m in \u001b[0;36m<module>\u001b[1;34m()\u001b[0m\n\u001b[1;32m----> 1\u001b[1;33m \u001b[0mplt\u001b[0m\u001b[1;33m.\u001b[0m\u001b[0mplot\u001b[0m\u001b[1;33m(\u001b[0m\u001b[0mrange\u001b[0m\u001b[1;33m(\u001b[0m\u001b[1;36m4\u001b[0m\u001b[1;33m,\u001b[0m\u001b[1;36m18\u001b[0m\u001b[1;33m,\u001b[0m\u001b[1;36m2\u001b[0m\u001b[1;33m)\u001b[0m\u001b[1;33m,\u001b[0m\u001b[0mtime_bt\u001b[0m\u001b[1;33m,\u001b[0m\u001b[1;34m'-ob'\u001b[0m\u001b[1;33m,\u001b[0m\u001b[0mlabel\u001b[0m\u001b[1;33m=\u001b[0m\u001b[1;34m'Backtracking'\u001b[0m\u001b[1;33m)\u001b[0m\u001b[1;33m\u001b[0m\u001b[0m\n\u001b[0m\u001b[0;32m      2\u001b[0m \u001b[0mplt\u001b[0m\u001b[1;33m.\u001b[0m\u001b[0mplot\u001b[0m\u001b[1;33m(\u001b[0m\u001b[0mrange\u001b[0m\u001b[1;33m(\u001b[0m\u001b[1;36m4\u001b[0m\u001b[1;33m,\u001b[0m\u001b[1;36m18\u001b[0m\u001b[1;33m,\u001b[0m\u001b[1;36m2\u001b[0m\u001b[1;33m)\u001b[0m\u001b[1;33m,\u001b[0m\u001b[0mrange\u001b[0m\u001b[1;33m(\u001b[0m\u001b[1;36m4\u001b[0m\u001b[1;33m,\u001b[0m\u001b[1;36m14\u001b[0m\u001b[1;33m,\u001b[0m\u001b[1;36m2\u001b[0m\u001b[1;33m)\u001b[0m\u001b[1;33m,\u001b[0m\u001b[1;34m'-om'\u001b[0m\u001b[1;33m,\u001b[0m\u001b[0mlabel\u001b[0m\u001b[1;33m=\u001b[0m\u001b[1;34m'Line'\u001b[0m\u001b[1;33m)\u001b[0m\u001b[1;33m\u001b[0m\u001b[0m\n\u001b[0;32m      3\u001b[0m \u001b[0mplt\u001b[0m\u001b[1;33m.\u001b[0m\u001b[0mplot\u001b[0m\u001b[1;33m(\u001b[0m\u001b[0mrange\u001b[0m\u001b[1;33m(\u001b[0m\u001b[1;36m4\u001b[0m\u001b[1;33m,\u001b[0m\u001b[1;36m18\u001b[0m\u001b[1;33m,\u001b[0m\u001b[1;36m2\u001b[0m\u001b[1;33m)\u001b[0m\u001b[1;33m,\u001b[0m\u001b[0mtime_fc\u001b[0m\u001b[1;33m,\u001b[0m\u001b[1;34m'-oc'\u001b[0m\u001b[1;33m,\u001b[0m\u001b[0mlabel\u001b[0m\u001b[1;33m=\u001b[0m\u001b[1;34m'Forward Checking'\u001b[0m\u001b[1;33m)\u001b[0m\u001b[1;33m\u001b[0m\u001b[0m\n\u001b[0;32m      4\u001b[0m \u001b[0mplt\u001b[0m\u001b[1;33m.\u001b[0m\u001b[0mlegend\u001b[0m\u001b[1;33m(\u001b[0m\u001b[0mloc\u001b[0m\u001b[1;33m=\u001b[0m\u001b[1;36m2\u001b[0m\u001b[1;33m)\u001b[0m\u001b[1;33m\u001b[0m\u001b[0m\n\u001b[0;32m      5\u001b[0m \u001b[0mplt\u001b[0m\u001b[1;33m.\u001b[0m\u001b[0mylabel\u001b[0m\u001b[1;33m(\u001b[0m\u001b[1;34m'Time(ms)'\u001b[0m\u001b[1;33m)\u001b[0m\u001b[1;33m\u001b[0m\u001b[0m\n",
      "\u001b[1;31mNameError\u001b[0m: name 'time_bt' is not defined"
     ]
    }
   ],
   "source": [
    "plt.plot(range(4,18,2),time_bt,'-ob',label='Backtracking')\n",
    "plt.plot(range(4,18,2),range(4,14,2),'-om',label='Line')\n",
    "plt.plot(range(4,18,2),time_fc,'-oc',label='Forward Checking')\n",
    "plt.legend(loc=2)\n",
    "plt.ylabel('Time(ms)')\n",
    "plt.xlabel('n')"
   ]
  },
  {
   "cell_type": "markdown",
   "metadata": {
    "collapsed": true
   },
   "source": [
    "## Assignment\n",
    "\n",
    "Use at least two strategies to improve the backtracking search to solve the n-queens problem, such as:\n",
    "\n",
    "<ul>\n",
    "<li>Minimum remaining values</li>\n",
    "<li>Degree heuristic</li>\n",
    "<li>Least constraining value</li>\n",
    "<li>Forward checking</li>\n",
    "</ul>\n",
    "\n",
    "Depict the execution time comparing each technique and analyze the improvements."
   ]
  }
 ],
 "metadata": {
  "kernelspec": {
   "display_name": "Python 2",
   "language": "python",
   "name": "python2"
  },
  "language_info": {
   "codemirror_mode": {
    "name": "ipython",
    "version": 2
   },
   "file_extension": ".py",
   "mimetype": "text/x-python",
   "name": "python",
   "nbconvert_exporter": "python",
   "pygments_lexer": "ipython2",
   "version": "2.7.13"
  }
 },
 "nbformat": 4,
 "nbformat_minor": 1
}
